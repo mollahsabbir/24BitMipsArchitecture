{
 "cells": [
  {
   "cell_type": "code",
   "execution_count": 1,
   "metadata": {},
   "outputs": [],
   "source": [
    "code = '''\n",
    "|and|00000|and $1,$2,$3|and $1,$2,$3|$1=$2&$3|\n",
    "|or|00001|or $1,$2,$3|or $1,$2,$3|$1=$2\\|$3|\n",
    "|not|00010|not $1,$2|not $1,$2,R0|$1=!$2|\n",
    "|nand|00011|nand $1,$2,$3|nand $1,$2,$3|$1=!($2&$3)|\n",
    "|nor|00100|nor $1,$2,$3|nor $1,$2,$3|$1=($2\\|$3)|\n",
    "|xor|00101|xor $1,$2,$3|xor $1,$2,$3|$1=$2^$3|\n",
    "|add|00110|add $1,$2,$3|add $1,$2,$3|$1=$2+$3|\n",
    "|subtract|00111|sub $1,$2,$3|sub $1,$2,$3|$1=$2-$3|\n",
    "|multiply|01000|mul $1,$2,$3|mul $1,$2,$3|$1=$2*$3|\n",
    "|divide|01001|div $1,$2,$3|div $1,$2,$3|$1=$2/$3|\n",
    "|remainder|01010|rem $1,$2,$3|rem $1,$2,$3|$1=$2%$3|\n",
    "|shift left logical|01011|sll $1,$2,imm|sll $1,$2,immediate|$1=$2<<imm|\n",
    "|shift right logical|01100|srl $1,$2,imm|srl $1,$2,imm|$1=$2>>imm|\n",
    "|add immediate|01101|addi $1,$2,imm|addi $1,$2,imm|$1=$2+imm|\n",
    "|subtract immediate|01111|subi $1,$2,imm|subi $1,$2,imm|$1=$2-imm|\n",
    "|load word|01111|lw $1,$2,imm|lw $1,$2,imm|$1 = MEMORY[$2+imm]|\n",
    "|store word|10000|sw $1,$2,imm|sw $1,$2,imm|MEMORY[$2+imm]=$1|\n",
    "|branch if equal|10001|beq $1,$2,imm|beq $1,$2,imm|if($1==$2) goto PC+imm|\n",
    "|branch if not equal|10010|bne $1,$2,imm|bne $1,$2,imm|if($1!=$2) goto PC+imm|\n",
    "|branch if greater|10011|bgt $1,$2,imm|bgt $1,$2,imm|if($1>$2) goto PC+imm|\n",
    "|branch if greater equal|10100|bge $1,$2,imm|bge $1,$2,imm|if($1>=$2) goto PC+imm|\n",
    "|branch if less than|10101|blt $1,$2,imm|blt $1,$2,imm|if($1<$2) goto PC+imm|\n",
    "|branch if less equal|10110|ble $1,$2,imm|ble $1,$2,imm|if($1<=$2) goto PC+imm|\n",
    "|set if equal|10111|sle $1,$2,$3|sle $1,$2,$3|if($2==$3)$1=1 else $1=0|\n",
    "|set if less than|11000|slt $1,$2,$3|slt $1,$2,$3|if($2<$3)$1=1 else $1=0|\n",
    "|set if greater|11001|sgt $1,$2,$3|sgt $1,$2,$3|if($2>$3)$1=1 else $1=0|\n",
    "|jump|11010|jump imm|jump imm|goto imm|\n",
    "|jump register|11011|jumpr $1|jumpr $1,R0,R0|goto $1|\n",
    "|jump if carry|11100|jc $1|jc $1,R0,R0|if(alu_carry==1) goto $1|\n",
    "|jump if zero|11101|jz $1|jz $1,R0,R0|if(alu_output==0) goto $1|\n",
    "|input|11110|in $1|in $1,R0,R0|$1=user_input|\n",
    "|output|11111|out $1|out $1,R0,R0|display $1|\n",
    "'''"
   ]
  },
  {
   "cell_type": "code",
   "execution_count": 20,
   "metadata": {},
   "outputs": [
    {
     "name": "stdout",
     "output_type": "stream",
     "text": [
      "\"and\":\"00000\",\n",
      "\"or\":\"00001\",\n",
      "\"not\":\"00010\",\n",
      "\"nand\":\"00011\",\n",
      "\"nor\":\"00100\",\n",
      "\"xor\":\"00101\",\n",
      "\"add\":\"00110\",\n",
      "\"sub\":\"00111\",\n",
      "\"mul\":\"01000\",\n",
      "\"div\":\"01001\",\n",
      "\"rem\":\"01010\",\n",
      "\"sll\":\"01011\",\n",
      "\"srl\":\"01100\",\n",
      "\"addi\":\"01101\",\n",
      "\"subi\":\"01111\",\n",
      "\"lw\":\"01111\",\n",
      "\"sw\":\"10000\",\n",
      "\"beq\":\"10001\",\n",
      "\"bne\":\"10010\",\n",
      "\"bgt\":\"10011\",\n",
      "\"bge\":\"10100\",\n",
      "\"blt\":\"10101\",\n",
      "\"ble\":\"10110\",\n",
      "\"sle\":\"10111\",\n",
      "\"slt\":\"11000\",\n",
      "\"sgt\":\"11001\",\n",
      "\"jump\":\"11010\",\n",
      "\"jumpr\":\"11011\",\n",
      "\"jc\":\"11100\",\n",
      "\"jz\":\"11101\",\n",
      "\"in\":\"11110\",\n",
      "\"out\":\"11111\",\n"
     ]
    }
   ],
   "source": [
    "results = []\n",
    "for c in code.split(\"\\n\"):\n",
    "    if c!=\"\":\n",
    "        results.append(c)\n",
    "\n",
    "results2 = []\n",
    "for r in results:\n",
    "    a,b = r.split(\"|\")[2:4]\n",
    "    b = b.split()[0]\n",
    "    results2.append([b,a])\n",
    "    \n",
    "for a,b in results2:\n",
    "    print(f'\"{a}\": InstructionsDetails(\"{b}\"),')"
   ]
  },
  {
   "cell_type": "code",
   "execution_count": null,
   "metadata": {},
   "outputs": [],
   "source": []
  }
 ],
 "metadata": {
  "kernelspec": {
   "display_name": "Python 3.9.13 ('datathon')",
   "language": "python",
   "name": "python3"
  },
  "language_info": {
   "codemirror_mode": {
    "name": "ipython",
    "version": 3
   },
   "file_extension": ".py",
   "mimetype": "text/x-python",
   "name": "python",
   "nbconvert_exporter": "python",
   "pygments_lexer": "ipython3",
   "version": "3.9.13"
  },
  "orig_nbformat": 4,
  "vscode": {
   "interpreter": {
    "hash": "85d6c0ae2c103aba7413ffc5643c76b9c827604bc6759143305e36799a097d75"
   }
  }
 },
 "nbformat": 4,
 "nbformat_minor": 2
}
